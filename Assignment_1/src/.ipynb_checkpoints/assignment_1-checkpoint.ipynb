{
 "cells": [
  {
   "cell_type": "code",
   "execution_count": 6,
   "metadata": {},
   "outputs": [],
   "source": [
    "import csv\n",
    "import random"
   ]
  },
  {
   "cell_type": "markdown",
   "metadata": {},
   "source": [
    "Read in the data using csv. Create an empty list to store only the names of the students. Then, use random.shuffle to shuffle the data"
   ]
  },
  {
   "cell_type": "code",
   "execution_count": 2,
   "metadata": {},
   "outputs": [],
   "source": [
    "data=csv.reader(open(\"C:/Users/macia/Documents/MSIA-19/Git/-CSC-405-605_2021_Assignment/Assignment_1/data/spring-21-students.tsv\"), delimiter='\\t')\n",
    "# data=csv.reader(open(\"C:/Users/miklp/Documents/GitHub/-CSC-405-605_2021_Assignment/Assignment_1/data/spring-21-students.tsv\"),\n",
    "#                 delimiter='\\t')\n",
    "\n",
    "data_ = []\n",
    "for row in data:\n",
    "    data_.append(row[0])\n",
    "data_=data_[1:]\n",
    "random.shuffle(data_)"
   ]
  },
  {
   "cell_type": "markdown",
   "metadata": {},
   "source": [
    "Create a function that will take an integer as the argument. The integer will need to be a range of values that allow groups of 3-5 people to form. \n",
    "\n",
    "<br>\n",
    "\n",
    "Integers that are outside this range will through an error. The range is calculated by number of people in the class and number of teams provided. If the rounded quotient is equal to 3 or 4, then the while loop, list comprehenion and for loops will generate the teams. \n",
    "\n",
    "<br>\n",
    "\n",
    "If the rounded quotient is not equal to 3 or 4, it will suggest a list of values (number of teams) to consider. Extra students that are not selected for grouping are added to the first, second and third teams. "
   ]
  },
  {
   "cell_type": "code",
   "execution_count": 3,
   "metadata": {},
   "outputs": [],
   "source": [
    "def Create_teams(x):\n",
    "    \"\"\"Use int 'x' to generate number teams for class. \n",
    "    This uses a list of student names named 'random_list'.\"\"\"\n",
    "    random_list = data_.copy()\n",
    "    if ((type(x) == int) and ((round(len(random_list)/x) == 3) or (round(len(random_list)/x) == 4))):\n",
    "        num_sample = round(len(random_list)/x)\n",
    "        groups = []\n",
    "        print(\"minimum number of team members:{}\".format(num_sample))\n",
    "        while len(random_list) > num_sample:\n",
    "            groups.append([i for i in random.sample(random_list,num_sample)])\n",
    "            for group in groups:\n",
    "                for name in group:\n",
    "                    if name in random_list:\n",
    "                        random_list.remove(name)\n",
    "        if len(random_list) == 1: # if one student left, add them to first group\n",
    "            groups[0].append(random_list[0])\n",
    "        if len(random_list) == 2: # add first left over to first group, second left over to second\n",
    "            groups[0].append(random_list[0])\n",
    "            groups[1].append(random_list[1])\n",
    "        if len(random_list) == 3: # you get the rest....\n",
    "            groups[0].append(random_list[0])\n",
    "            groups[1].append(random_list[1])\n",
    "            groups[2].append(random_list[2])\n",
    "        return groups\n",
    "    else: # this else statement will suggest number to team members to consider for equal teams\n",
    "        possible_team_num = []\n",
    "        for i in range(2,40):\n",
    "            smaller = (round(len(random_list)/i) == 3)\n",
    "            small = (round(len(random_list)/i) == 4)\n",
    "            if ((small == True) or (smaller==True)):\n",
    "                possible_team_num.append(i)\n",
    "        lowest_possible = possible_team_num[0]\n",
    "        highest_possible =  possible_team_num[-1]\n",
    "        print('Please provide an integer between {}-{} for balanced teams between 3-5 people'.format(lowest_possible,highest_possible))\n",
    "    "
   ]
  },
  {
   "cell_type": "code",
   "execution_count": 7,
   "metadata": {},
   "outputs": [
    {
     "name": "stdout",
     "output_type": "stream",
     "text": [
      "minimum number of team members:3\n"
     ]
    },
    {
     "data": {
      "text/plain": [
       "[['Malik, Kanav', 'Sudderth, Erika', 'Mamo, Kidest', 'Burns, Bill'],\n",
       " ['Abrams, Richard', 'Aliyev, Etibar', 'Chinta, Gowthami'],\n",
       " ['Ashburn, Emily', 'Ghotbi Taheri, Sogol', 'Hall, Lauren'],\n",
       " ['Leeming, Meghan', 'Williamson, Preston', 'Patil, Pradnya'],\n",
       " ['Hunter, Kahlie', 'Calvo, Michael', 'Stadler, Josiah'],\n",
       " ['Lee, Kyung', 'Sfar, Ilyass', 'Sturdivant, Jazarai'],\n",
       " ['Martin, Marissa', 'Brown, Chanel', 'Obrien, Devin'],\n",
       " ['Wilhelmsen, Ian', 'Luo, Dan', 'Jayaram, Reshma'],\n",
       " ['Chalise, Ashim', 'Puerto, Michael', 'Holmes, Willie'],\n",
       " ['Bittle, Marc', 'Abrams, Ronald', 'Roux, Tyler'],\n",
       " ['Devkota, Pratik', 'Pandeti, Siva Prasad', 'Gomez, Stephanie'],\n",
       " ['Traylor, Alana', 'Peterson, Michael', 'Parepalli, Shireeshma']]"
      ]
     },
     "execution_count": 7,
     "metadata": {},
     "output_type": "execute_result"
    }
   ],
   "source": [
    "Create_teams(14)"
   ]
  },
  {
   "cell_type": "code",
   "execution_count": 4,
   "metadata": {},
   "outputs": [
    {
     "name": "stdout",
     "output_type": "stream",
     "text": [
      "minimum number of team members:4\n"
     ]
    },
    {
     "data": {
      "text/plain": [
       "[['Traylor, Alana',\n",
       "  'Ghotbi Taheri, Sogol',\n",
       "  'Roux, Tyler',\n",
       "  'Wilhelmsen, Ian',\n",
       "  'Lee, Kyung'],\n",
       " ['Malik, Kanav', 'Peterson, Michael', 'Holmes, Willie', 'Brown, Chanel'],\n",
       " ['Gomez, Stephanie', 'Bittle, Marc', 'Burns, Bill', 'Hunter, Kahlie'],\n",
       " ['Leeming, Meghan',\n",
       "  'Jayaram, Reshma',\n",
       "  'Williamson, Preston',\n",
       "  'Parepalli, Shireeshma'],\n",
       " ['Hall, Lauren', 'Aliyev, Etibar', 'Sfar, Ilyass', 'Devkota, Pratik'],\n",
       " ['Martin, Marissa', 'Ashburn, Emily', 'Obrien, Devin', 'Chalise, Ashim'],\n",
       " ['Stadler, Josiah', 'Luo, Dan', 'Sturdivant, Jazarai', 'Abrams, Richard'],\n",
       " ['Calvo, Michael', 'Abrams, Ronald', 'Puerto, Michael', 'Sudderth, Erika'],\n",
       " ['Patil, Pradnya',\n",
       "  'Mamo, Kidest',\n",
       "  'Pandeti, Siva Prasad',\n",
       "  'Chinta, Gowthami']]"
      ]
     },
     "execution_count": 4,
     "metadata": {},
     "output_type": "execute_result"
    }
   ],
   "source": [
    "Create_teams(9)"
   ]
  },
  {
   "cell_type": "code",
   "execution_count": 5,
   "metadata": {},
   "outputs": [
    {
     "name": "stdout",
     "output_type": "stream",
     "text": [
      "Please provide an integer between 9-14 for balanced teams between 3-5 people\n"
     ]
    }
   ],
   "source": [
    "Create_teams(15)"
   ]
  }
 ],
 "metadata": {
  "kernelspec": {
   "display_name": "Python 3",
   "language": "python",
   "name": "python3"
  },
  "language_info": {
   "codemirror_mode": {
    "name": "ipython",
    "version": 3
   },
   "file_extension": ".py",
   "mimetype": "text/x-python",
   "name": "python",
   "nbconvert_exporter": "python",
   "pygments_lexer": "ipython3",
   "version": "3.7.3"
  }
 },
 "nbformat": 4,
 "nbformat_minor": 2
}

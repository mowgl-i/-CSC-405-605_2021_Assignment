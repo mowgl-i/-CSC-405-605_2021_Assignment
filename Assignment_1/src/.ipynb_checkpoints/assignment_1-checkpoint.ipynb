{
 "cells": [
  {
   "cell_type": "code",
   "execution_count": 19,
   "metadata": {},
   "outputs": [],
   "source": [
    "import csv\n",
    "import random"
   ]
  },
  {
   "cell_type": "code",
   "execution_count": 31,
   "metadata": {},
   "outputs": [],
   "source": [
    "#data=csv.reader(open(\"C:/Users/macia/Documents/MSIA-19/Git/-CSC-405-605_2021_Assignment/Assignment_1/data/spring-21-students.tsv\"), delimiter='\\t')\n",
    "data=csv.reader(open(\"C:/Users/miklp/Documents/GitHub/-CSC-405-605_2021_Assignment/Assignment_1/data/spring-21-students.tsv\"),\n",
    "                delimiter='\\t')\n",
    "\n",
    "random_list = []\n",
    "for row in data:\n",
    "    random_list.append(row[0])\n",
    "random_list=random_list[1:]\n",
    "random.shuffle(random_list)"
   ]
  },
  {
   "cell_type": "code",
   "execution_count": 21,
   "metadata": {
    "scrolled": true
   },
   "outputs": [
    {
     "data": {
      "text/plain": [
       "[['Gomez, Stephanie',\n",
       "  'Leeming, Meghan',\n",
       "  'Bittle, Marc',\n",
       "  'Devkota, Pratik',\n",
       "  'Burns, Bill'],\n",
       " ['Obrien, Devin', 'Brown, Chanel', 'Mamo, Kidest', 'Parepalli, Shireeshma'],\n",
       " ['Traylor, Alana', 'Puerto, Michael', 'Holmes, Willie', 'Lee, Kyung'],\n",
       " ['Stadler, Josiah', 'Sfar, Ilyass', 'Luo, Dan', 'Chinta, Gowthami'],\n",
       " ['Williamson, Preston',\n",
       "  'Peterson, Michael',\n",
       "  'Martin, Marissa',\n",
       "  'Wilhelmsen, Ian'],\n",
       " ['Abrams, Ronald', 'Patil, Pradnya', 'Aliyev, Etibar', 'Jayaram, Reshma'],\n",
       " ['Pandeti, Siva Prasad',\n",
       "  'Sturdivant, Jazarai',\n",
       "  'Abrams, Richard',\n",
       "  'Hunter, Kahlie'],\n",
       " ['Sudderth, Erika', 'Malik, Kanav', 'Roux, Tyler', 'Ghotbi Taheri, Sogol'],\n",
       " ['Chalise, Ashim', 'Calvo, Michael', 'Hall, Lauren', 'Ashburn, Emily']]"
      ]
     },
     "execution_count": 21,
     "metadata": {},
     "output_type": "execute_result"
    }
   ],
   "source": [
    "groups = []\n",
    "while len(random_list) > 4:\n",
    "    groups.append([i for i in random.sample(random_list,4)])\n",
    "    for group in groups:\n",
    "        for name in group:\n",
    "            if name in random_list:\n",
    "                random_list.remove(name)\n",
    "    if len(random_list) == 1:\n",
    "        groups[0].append(random_list[0])\n",
    "    if len(random_list) == 2:\n",
    "        groups[0].append(random_list[0])\n",
    "        groups[1].append(random_list[1])\n",
    "    if len(random_list) == 3:\n",
    "        groups[0].append(random_list[0])\n",
    "        groups[1].append(random_list[1])\n",
    "        groups[2].append(random_list[2])\n",
    "\n",
    "groups"
   ]
  },
  {
   "cell_type": "code",
   "execution_count": 90,
   "metadata": {},
   "outputs": [],
   "source": [
    "def Create_teams(x):\n",
    "    \"\"\"Use int 'x' to generate number teams for class. \n",
    "    This uses a list of student names named 'random_list'\"\"\"\n",
    "    if type(x) == int:\n",
    "        num_sample = round(len(random_list)/x)\n",
    "        groups = []\n",
    "        print(num_sample)\n",
    "        while len(random_list) > num_sample:\n",
    "            groups.append([i for i in random.sample(random_list,num_sample)])\n",
    "            for group in groups:\n",
    "                for name in group:\n",
    "                    if name in random_list:\n",
    "                        random_list.remove(name)\n",
    "        return groups,len(random_list)\n",
    "\n",
    "    else:\n",
    "        print('You did not provide an integer')\n",
    "    "
   ]
  },
  {
   "cell_type": "code",
   "execution_count": 91,
   "metadata": {},
   "outputs": [
    {
     "name": "stdout",
     "output_type": "stream",
     "text": [
      "3\n"
     ]
    },
    {
     "data": {
      "text/plain": [
       "([['Brown, Chanel', 'Mamo, Kidest', 'Burns, Bill'],\n",
       "  ['Bittle, Marc', 'Peterson, Michael', 'Sudderth, Erika'],\n",
       "  ['Obrien, Devin', 'Luo, Dan', 'Devkota, Pratik'],\n",
       "  ['Leeming, Meghan', 'Patil, Pradnya', 'Aliyev, Etibar'],\n",
       "  ['Holmes, Willie', 'Stadler, Josiah', 'Sfar, Ilyass'],\n",
       "  ['Puerto, Michael', 'Malik, Kanav', 'Abrams, Richard'],\n",
       "  ['Parepalli, Shireeshma', 'Gomez, Stephanie', 'Hunter, Kahlie'],\n",
       "  ['Traylor, Alana', 'Roux, Tyler', 'Pandeti, Siva Prasad'],\n",
       "  ['Calvo, Michael', 'Abrams, Ronald', 'Sturdivant, Jazarai'],\n",
       "  ['Hall, Lauren', 'Lee, Kyung', 'Wilhelmsen, Ian'],\n",
       "  ['Martin, Marissa', 'Jayaram, Reshma', 'Ghotbi Taheri, Sogol'],\n",
       "  ['Chalise, Ashim', 'Williamson, Preston', 'Ashburn, Emily']],\n",
       " 1)"
      ]
     },
     "execution_count": 91,
     "metadata": {},
     "output_type": "execute_result"
    }
   ],
   "source": [
    "#data=csv.reader(open(\"C:/Users/macia/Documents/MSIA-19/Git/-CSC-405-605_2021_Assignment/Assignment_1/data/spring-21-students.tsv\"), delimiter='\\t')\n",
    "data=csv.reader(open(\"C:/Users/miklp/Documents/GitHub/-CSC-405-605_2021_Assignment/Assignment_1/data/spring-21-students.tsv\"),\n",
    "                delimiter='\\t')\n",
    "\n",
    "random_list = []\n",
    "for row in data:\n",
    "    random_list.append(row[0])\n",
    "random_list=random_list[1:]\n",
    "random.shuffle(random_list)\n",
    "\n",
    "Create_teams(12)"
   ]
  },
  {
   "cell_type": "code",
   "execution_count": 69,
   "metadata": {},
   "outputs": [
    {
     "name": "stdout",
     "output_type": "stream",
     "text": [
      "0\n"
     ]
    },
    {
     "data": {
      "text/plain": [
       "[]"
      ]
     },
     "execution_count": 69,
     "metadata": {},
     "output_type": "execute_result"
    }
   ],
   "source": []
  }
 ],
 "metadata": {
  "kernelspec": {
   "display_name": "Python 3",
   "language": "python",
   "name": "python3"
  },
  "language_info": {
   "codemirror_mode": {
    "name": "ipython",
    "version": 3
   },
   "file_extension": ".py",
   "mimetype": "text/x-python",
   "name": "python",
   "nbconvert_exporter": "python",
   "pygments_lexer": "ipython3",
   "version": "3.7.3"
  }
 },
 "nbformat": 4,
 "nbformat_minor": 2
}

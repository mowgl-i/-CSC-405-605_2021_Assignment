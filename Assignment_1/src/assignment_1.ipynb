{
 "cells": [
  {
   "cell_type": "code",
   "execution_count": null,
   "metadata": {},
   "outputs": [],
   "source": [
    "import csv\n",
    "import random"
   ]
  },
  {
   "cell_type": "code",
   "execution_count": 283,
   "metadata": {},
   "outputs": [],
   "source": [
    "data=csv.reader(open(\"C:/Users/macia/Documents/MSIA-19/Git/-CSC-405-605_2021_Assignment/Assignment_1/data/spring-21-students.tsv\"), delimiter='\\t')\n",
    "\n",
    "random_list = []\n",
    "for row in data:\n",
    "    random_list.append(row[0])\n",
    "random_list=random_list[1:]\n",
    "random.shuffle(random_list)"
   ]
  },
  {
   "cell_type": "code",
   "execution_count": 284,
   "metadata": {
    "scrolled": true
   },
   "outputs": [
    {
     "data": {
      "text/plain": [
       "[['Roux, Tyler',\n",
       "  'Ashburn, Emily',\n",
       "  'Chinta, Gowthami',\n",
       "  'Burns, Bill',\n",
       "  'Calvo, Michael'],\n",
       " ['Devkota, Pratik',\n",
       "  'Sfar, Ilyass',\n",
       "  'Holmes, Willie',\n",
       "  'Parepalli, Shireeshma'],\n",
       " ['Malik, Kanav',\n",
       "  'Leeming, Meghan',\n",
       "  'Jayaram, Reshma',\n",
       "  'Ghotbi Taheri, Sogol'],\n",
       " ['Abrams, Ronald', 'Aliyev, Etibar', 'Patil, Pradnya', 'Hall, Lauren'],\n",
       " ['Gomez, Stephanie', 'Chalise, Ashim', 'Luo, Dan', 'Mamo, Kidest'],\n",
       " ['Abrams, Richard',\n",
       "  'Sturdivant, Jazarai',\n",
       "  'Pandeti, Siva Prasad',\n",
       "  'Bittle, Marc'],\n",
       " ['Hunter, Kahlie', 'Wilhelmsen, Ian', 'Brown, Chanel', 'Williamson, Preston'],\n",
       " ['Traylor, Alana', 'Peterson, Michael', 'Martin, Marissa', 'Lee, Kyung'],\n",
       " ['Puerto, Michael', 'Sudderth, Erika', 'Obrien, Devin', 'Stadler, Josiah']]"
      ]
     },
     "execution_count": 284,
     "metadata": {},
     "output_type": "execute_result"
    }
   ],
   "source": [
    "groups = []\n",
    "while len(random_list) > 4:\n",
    "    groups.append([i for i in random.sample(random_list,4)])\n",
    "    for group in groups:\n",
    "        for name in group:\n",
    "            if name in random_list:\n",
    "                random_list.remove(name)\n",
    "    if len(random_list) == 1:\n",
    "        groups[0].append(random_list[0])\n",
    "    if len(random_list) == 2:\n",
    "        groups[0].append(random_list[0])\n",
    "        groups[1].append(random_list[1])\n",
    "    if len(random_list) == 3:\n",
    "        groups[0].append(random_list[0])\n",
    "        groups[1].append(random_list[1])\n",
    "        groups[2].append(random_list[2])\n",
    "\n",
    "groups"
   ]
  }
 ],
 "metadata": {
  "kernelspec": {
   "display_name": "Python 3",
   "language": "python",
   "name": "python3"
  },
  "language_info": {
   "codemirror_mode": {
    "name": "ipython",
    "version": 3
   },
   "file_extension": ".py",
   "mimetype": "text/x-python",
   "name": "python",
   "nbconvert_exporter": "python",
   "pygments_lexer": "ipython3",
   "version": "3.7.3"
  }
 },
 "nbformat": 4,
 "nbformat_minor": 2
}

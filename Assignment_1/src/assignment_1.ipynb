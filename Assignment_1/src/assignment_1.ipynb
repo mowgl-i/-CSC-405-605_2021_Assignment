{
 "cells": [
  {
   "cell_type": "code",
   "execution_count": 3,
   "metadata": {},
   "outputs": [],
   "source": [
    "import csv\n",
    "import random"
   ]
  },
  {
   "cell_type": "code",
   "execution_count": 104,
   "metadata": {},
   "outputs": [],
   "source": [
    "data=csv.reader(open(\"C:/Users/macia/Documents/MSIA-19/Git/-CSC-405-605_2021_Assignment/Assignment_1/data/spring-21-students.tsv\"), delimiter='\\t')\n",
    "# data=csv.reader(open(\"C:/Users/miklp/Documents/GitHub/-CSC-405-605_2021_Assignment/Assignment_1/data/spring-21-students.tsv\"),\n",
    "#                 delimiter='\\t')\n",
    "\n",
    "data_ = []\n",
    "for row in data:\n",
    "    data_.append(row[0])\n",
    "data_=data_[1:]\n",
    "random.shuffle(data_)"
   ]
  },
  {
   "cell_type": "code",
   "execution_count": 108,
   "metadata": {},
   "outputs": [],
   "source": [
    "def Create_teams(x):\n",
    "    \"\"\"Use int 'x' to generate number teams for class. \n",
    "    This uses a list of student names named 'random_list'.\"\"\"\n",
    "    random_list = data_.copy()\n",
    "    if ((type(x) == int) and ((round(len(random_list)/x) == 3) or (round(len(random_list)/x) == 4))):\n",
    "        num_sample = round(len(random_list)/x)\n",
    "        groups = []\n",
    "        print(\"minimum number of team members:{}\".format(num_sample))\n",
    "        while len(random_list) > num_sample:\n",
    "            groups.append([i for i in random.sample(random_list,num_sample)])\n",
    "            for group in groups:\n",
    "                for name in group:\n",
    "                    if name in random_list:\n",
    "                        random_list.remove(name)\n",
    "        if len(random_list) == 1:\n",
    "            groups[0].append(random_list[0])\n",
    "        if len(random_list) == 2:\n",
    "            groups[0].append(random_list[0])\n",
    "            groups[1].append(random_list[1])\n",
    "        if len(random_list) == 3:\n",
    "            groups[0].append(random_list[0])\n",
    "            groups[1].append(random_list[1])\n",
    "            groups[2].append(random_list[2])\n",
    "        return groups\n",
    "    else:\n",
    "        possible_team_num = []\n",
    "        for i in range(2,40):\n",
    "            smaller = (round(len(random_list)/i) == 3)\n",
    "            small = (round(len(random_list)/i) == 4)\n",
    "            if ((small == True) or (smaller==True)):\n",
    "                possible_team_num.append(i)\n",
    "        lowest_possible = possible_team_num[0]\n",
    "        highest_possible =  possible_team_num[-1]\n",
    "        print('Please provide an integer between {}-{} for balanced teams between 3-5 people'.format(lowest_possible,highest_possible))\n",
    "    "
   ]
  },
  {
   "cell_type": "code",
   "execution_count": 121,
   "metadata": {},
   "outputs": [
    {
     "name": "stdout",
     "output_type": "stream",
     "text": [
      "minimum number of team members:4\n"
     ]
    },
    {
     "data": {
      "text/plain": [
       "[['Malik, Kanav',\n",
       "  'Brown, Chanel',\n",
       "  'Puerto, Michael',\n",
       "  'Leeming, Meghan',\n",
       "  'Abrams, Ronald'],\n",
       " ['Jayaram, Reshma', 'Abrams, Richard', 'Obrien, Devin', 'Roux, Tyler'],\n",
       " ['Sfar, Ilyass', 'Hall, Lauren', 'Mamo, Kidest', 'Lee, Kyung'],\n",
       " ['Sturdivant, Jazarai',\n",
       "  'Traylor, Alana',\n",
       "  'Aliyev, Etibar',\n",
       "  'Chinta, Gowthami'],\n",
       " ['Parepalli, Shireeshma',\n",
       "  'Martin, Marissa',\n",
       "  'Calvo, Michael',\n",
       "  'Hunter, Kahlie'],\n",
       " ['Williamson, Preston', 'Luo, Dan', 'Stadler, Josiah', 'Sudderth, Erika'],\n",
       " ['Patil, Pradnya', 'Burns, Bill', 'Bittle, Marc', 'Gomez, Stephanie'],\n",
       " ['Holmes, Willie', 'Peterson, Michael', 'Wilhelmsen, Ian', 'Ashburn, Emily'],\n",
       " ['Pandeti, Siva Prasad',\n",
       "  'Ghotbi Taheri, Sogol',\n",
       "  'Devkota, Pratik',\n",
       "  'Chalise, Ashim']]"
      ]
     },
     "execution_count": 121,
     "metadata": {},
     "output_type": "execute_result"
    }
   ],
   "source": [
    "Create_teams(9)"
   ]
  },
  {
   "cell_type": "code",
   "execution_count": 114,
   "metadata": {},
   "outputs": [
    {
     "name": "stdout",
     "output_type": "stream",
     "text": [
      "Please provide an integer between 9-14 for balanced teams between 3-5 people\n"
     ]
    }
   ],
   "source": [
    "Create_teams(15)"
   ]
  }
 ],
 "metadata": {
  "kernelspec": {
   "display_name": "Python 3",
   "language": "python",
   "name": "python3"
  },
  "language_info": {
   "codemirror_mode": {
    "name": "ipython",
    "version": 3
   },
   "file_extension": ".py",
   "mimetype": "text/x-python",
   "name": "python",
   "nbconvert_exporter": "python",
   "pygments_lexer": "ipython3",
   "version": "3.7.3"
  }
 },
 "nbformat": 4,
 "nbformat_minor": 2
}
